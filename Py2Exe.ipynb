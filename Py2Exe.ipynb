{
 "cells": [
  {
   "cell_type": "code",
   "execution_count": 26,
   "id": "quick-reception",
   "metadata": {},
   "outputs": [
    {
     "name": "stdout",
     "output_type": "stream",
     "text": [
      "Requirement already satisfied: pyinstaller in /srv/conda/envs/notebook/lib/python3.7/site-packages (4.5.1)\n",
      "Requirement already satisfied: importlib-metadata in /srv/conda/envs/notebook/lib/python3.7/site-packages (from pyinstaller) (3.4.0)\n",
      "Requirement already satisfied: pyinstaller-hooks-contrib>=2020.6 in /srv/conda/envs/notebook/lib/python3.7/site-packages (from pyinstaller) (2021.2)\n",
      "Requirement already satisfied: altgraph in /srv/conda/envs/notebook/lib/python3.7/site-packages (from pyinstaller) (0.17)\n",
      "Requirement already satisfied: setuptools in /srv/conda/envs/notebook/lib/python3.7/site-packages (from pyinstaller) (49.6.0.post20210108)\n",
      "Requirement already satisfied: zipp>=0.5 in /srv/conda/envs/notebook/lib/python3.7/site-packages (from importlib-metadata->pyinstaller) (3.4.0)\n",
      "Requirement already satisfied: typing-extensions>=3.6.4 in /srv/conda/envs/notebook/lib/python3.7/site-packages (from importlib-metadata->pyinstaller) (3.7.4.3)\n"
     ]
    }
   ],
   "source": [
    "!pip install pyinstaller"
   ]
  },
  {
   "cell_type": "code",
   "execution_count": 27,
   "id": "interracial-therapist",
   "metadata": {},
   "outputs": [
    {
     "name": "stdout",
     "output_type": "stream",
     "text": [
      "example.py  Py2Exe.ipynb  __pycache__\n"
     ]
    }
   ],
   "source": [
    "!ls"
   ]
  },
  {
   "cell_type": "markdown",
   "id": "rough-morning",
   "metadata": {},
   "source": [
    "For any missing package use this option:\n",
    "```code\n",
    "--hidden-import 'package_name'\n",
    "```"
   ]
  },
  {
   "cell_type": "code",
   "execution_count": 28,
   "id": "minor-equivalent",
   "metadata": {},
   "outputs": [
    {
     "name": "stdout",
     "output_type": "stream",
     "text": [
      "426 INFO: PyInstaller: 4.5.1\n",
      "427 INFO: Python: 3.7.10 (conda)\n",
      "427 INFO: Platform: Linux-4.15.0-128-generic-x86_64-with-debian-buster-sid\n",
      "428 INFO: wrote /home/jovyan/example.spec\n",
      "431 INFO: UPX is not available.\n",
      "433 INFO: Extending PYTHONPATH with paths\n",
      "['/home/jovyan', '/home/jovyan']\n",
      "631 INFO: checking Analysis\n",
      "631 INFO: Building Analysis because Analysis-00.toc is non existent\n",
      "632 INFO: Initializing module dependency graph...\n",
      "636 INFO: Caching module graph hooks...\n",
      "647 INFO: Analyzing base_library.zip ...\n",
      "2261 INFO: Processing pre-find module path hook distutils from '/srv/conda/envs/notebook/lib/python3.7/site-packages/PyInstaller/hooks/pre_find_module_path/hook-distutils.py'.\n",
      "2261 INFO: distutils: retargeting to non-venv dir '/srv/conda/envs/notebook/lib/python3.7'\n",
      "3283 INFO: Caching module dependency graph...\n",
      "3418 INFO: running Analysis Analysis-00.toc\n",
      "3434 INFO: Analyzing /home/jovyan/example.py\n",
      "3436 INFO: Processing module hooks...\n",
      "3437 INFO: Loading module hook 'hook-difflib.py' from '/srv/conda/envs/notebook/lib/python3.7/site-packages/PyInstaller/hooks'...\n",
      "3438 INFO: Loading module hook 'hook-xml.py' from '/srv/conda/envs/notebook/lib/python3.7/site-packages/PyInstaller/hooks'...\n",
      "3642 INFO: Loading module hook 'hook-sysconfig.py' from '/srv/conda/envs/notebook/lib/python3.7/site-packages/PyInstaller/hooks'...\n",
      "3647 INFO: Loading module hook 'hook-heapq.py' from '/srv/conda/envs/notebook/lib/python3.7/site-packages/PyInstaller/hooks'...\n",
      "3648 INFO: Loading module hook 'hook-distutils.py' from '/srv/conda/envs/notebook/lib/python3.7/site-packages/PyInstaller/hooks'...\n",
      "3648 INFO: Loading module hook 'hook-encodings.py' from '/srv/conda/envs/notebook/lib/python3.7/site-packages/PyInstaller/hooks'...\n",
      "3696 INFO: Loading module hook 'hook-pickle.py' from '/srv/conda/envs/notebook/lib/python3.7/site-packages/PyInstaller/hooks'...\n",
      "3706 INFO: Looking for ctypes DLLs\n",
      "3707 INFO: Analyzing run-time hooks ...\n",
      "3709 INFO: Including run-time hook '/srv/conda/envs/notebook/lib/python3.7/site-packages/PyInstaller/hooks/rthooks/pyi_rth_pkgutil.py'\n",
      "3711 INFO: Including run-time hook '/srv/conda/envs/notebook/lib/python3.7/site-packages/PyInstaller/hooks/rthooks/pyi_rth_inspect.py'\n",
      "3715 INFO: Looking for dynamic libraries\n",
      "4330 INFO: Looking for eggs\n",
      "4330 INFO: Python library not in binary dependencies. Doing additional searching...\n",
      "4355 INFO: Using Python library /srv/conda/envs/notebook/lib/libpython3.7m.so\n",
      "4361 INFO: Warnings written to /home/jovyan/build/example/warn-example.txt\n",
      "4381 INFO: Graph cross-reference written to /home/jovyan/build/example/xref-example.html\n",
      "4386 INFO: checking PYZ\n",
      "4386 INFO: Building PYZ because PYZ-00.toc is non existent\n",
      "4386 INFO: Building PYZ (ZlibArchive) /home/jovyan/build/example/PYZ-00.pyz\n",
      "4684 INFO: Building PYZ (ZlibArchive) /home/jovyan/build/example/PYZ-00.pyz completed successfully.\n",
      "4688 INFO: checking PKG\n",
      "4688 INFO: Building PKG because PKG-00.toc is non existent\n",
      "4688 INFO: Building PKG (CArchive) PKG-00.pkg\n",
      "9772 INFO: Building PKG (CArchive) PKG-00.pkg completed successfully.\n",
      "9774 INFO: Bootloader /srv/conda/envs/notebook/lib/python3.7/site-packages/PyInstaller/bootloader/Linux-64bit-intel/run\n",
      "9774 INFO: checking EXE\n",
      "9774 INFO: Building EXE because EXE-00.toc is non existent\n",
      "9775 INFO: Building EXE from EXE-00.toc\n",
      "9775 INFO: Appending archive to ELF section in EXE /home/jovyan/dist/example\n",
      "9829 INFO: Building EXE from EXE-00.toc completed successfully.\n"
     ]
    }
   ],
   "source": [
    "!pyinstaller --hidden-import 'pandas' --onefile 'example.py'"
   ]
  },
  {
   "cell_type": "code",
   "execution_count": 29,
   "id": "dress-defensive",
   "metadata": {},
   "outputs": [],
   "source": [
    "!rm -R 'example.spec' build"
   ]
  },
  {
   "cell_type": "code",
   "execution_count": 30,
   "id": "skilled-practice",
   "metadata": {},
   "outputs": [],
   "source": [
    "!cp '/home/jovyan/dist/example' example.exe "
   ]
  }
 ],
 "metadata": {
  "kernelspec": {
   "display_name": "Python 3",
   "language": "python",
   "name": "python3"
  },
  "language_info": {
   "codemirror_mode": {
    "name": "ipython",
    "version": 3
   },
   "file_extension": ".py",
   "mimetype": "text/x-python",
   "name": "python",
   "nbconvert_exporter": "python",
   "pygments_lexer": "ipython3",
   "version": "3.7.10"
  }
 },
 "nbformat": 4,
 "nbformat_minor": 5
}
