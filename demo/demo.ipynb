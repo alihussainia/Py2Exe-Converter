{
 "cells": [
  {
   "cell_type": "markdown",
   "id": "federal-monte",
   "metadata": {},
   "source": [
    "# Py2Exe-Converter Package Demo"
   ]
  },
  {
   "cell_type": "markdown",
   "id": "virgin-attribute",
   "metadata": {},
   "source": [
    "### Installing py2exe-converter"
   ]
  },
  {
   "cell_type": "code",
   "execution_count": 2,
   "id": "otherwise-mambo",
   "metadata": {},
   "outputs": [
    {
     "name": "stdout",
     "output_type": "stream",
     "text": [
      "Looking in indexes: https://test.pypi.org/simple/\n",
      "Collecting py2exe-converter==1.2.0\n",
      "  Downloading https://test-files.pythonhosted.org/packages/fc/c5/2bde0d5d7394780fd49e4c1ca10d45ea87bc637f425ab091e9b725c96e6a/py2exe_converter-1.2.0.tar.gz (2.0 kB)\n",
      "Building wheels for collected packages: py2exe-converter\n",
      "  Building wheel for py2exe-converter (setup.py) ... \u001b[?25ldone\n",
      "\u001b[?25h  Created wheel for py2exe-converter: filename=py2exe_converter-1.2.0-py3-none-any.whl size=2499 sha256=2f174700297d4236a36e76f560b824069fefef574767690f41f6bbbe657f19fe\n",
      "  Stored in directory: /home/jovyan/.cache/pip/wheels/40/e2/16/0bb78aee3b571264d3c5e48dfc8909eafe29116b6f6a76081d\n",
      "Successfully built py2exe-converter\n",
      "Installing collected packages: py2exe-converter\n",
      "  Attempting uninstall: py2exe-converter\n",
      "    Found existing installation: py2exe-converter 1.1.9\n",
      "    Uninstalling py2exe-converter-1.1.9:\n",
      "      Successfully uninstalled py2exe-converter-1.1.9\n",
      "Successfully installed py2exe-converter-1.2.0\n"
     ]
    }
   ],
   "source": [
    "!pip install -i https://test.pypi.org/simple/ py2exe-converter==1.2.0"
   ]
  },
  {
   "cell_type": "markdown",
   "id": "greater-porter",
   "metadata": {},
   "source": [
    "### Importing the package "
   ]
  },
  {
   "cell_type": "code",
   "execution_count": 3,
   "id": "marked-thong",
   "metadata": {},
   "outputs": [],
   "source": [
    "import py2exe_converter as pec"
   ]
  },
  {
   "cell_type": "markdown",
   "id": "distributed-booth",
   "metadata": {},
   "source": [
    "### Moving Example files to root"
   ]
  },
  {
   "cell_type": "code",
   "execution_count": 10,
   "id": "remarkable-meaning",
   "metadata": {},
   "outputs": [],
   "source": [
    "!cp 'py2exe_converter/demo/example.py' 'py2exe_converter/demo/requirements.txt' ."
   ]
  },
  {
   "cell_type": "markdown",
   "id": "stable-reconstruction",
   "metadata": {},
   "source": [
    "### Converting `example.py` to `example.exe`"
   ]
  },
  {
   "cell_type": "code",
   "execution_count": 6,
   "id": "junior-margin",
   "metadata": {},
   "outputs": [
    {
     "name": "stdout",
     "output_type": "stream",
     "text": [
      "Congratulations! Your example.py has been converted into example.exe\n"
     ]
    },
    {
     "data": {
      "text/plain": [
       "<py2exe_converter.converter.convert at 0x7fd850334190>"
      ]
     },
     "execution_count": 6,
     "metadata": {},
     "output_type": "execute_result"
    }
   ],
   "source": [
    "pec.convert('example.py','requirements.txt') #requirements.txt is optional"
   ]
  },
  {
   "cell_type": "code",
   "execution_count": null,
   "id": "assisted-compromise",
   "metadata": {},
   "outputs": [],
   "source": []
  }
 ],
 "metadata": {
  "kernelspec": {
   "display_name": "Python 3",
   "language": "python",
   "name": "python3"
  },
  "language_info": {
   "codemirror_mode": {
    "name": "ipython",
    "version": 3
   },
   "file_extension": ".py",
   "mimetype": "text/x-python",
   "name": "python",
   "nbconvert_exporter": "python",
   "pygments_lexer": "ipython3",
   "version": "3.7.10"
  }
 },
 "nbformat": 4,
 "nbformat_minor": 5
}
