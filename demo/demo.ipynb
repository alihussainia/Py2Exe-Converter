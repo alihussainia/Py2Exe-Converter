{
 "cells": [
  {
   "cell_type": "markdown",
   "id": "cooperative-synthetic",
   "metadata": {},
   "source": [
    "# Py2Exe-Converter Package Demo"
   ]
  },
  {
   "cell_type": "markdown",
   "id": "verbal-vatican",
   "metadata": {},
   "source": [
    "### Installing py2exe-converter"
   ]
  },
  {
   "cell_type": "code",
   "execution_count": 1,
   "id": "pressed-timer",
   "metadata": {},
   "outputs": [
    {
     "name": "stdout",
     "output_type": "stream",
     "text": [
      "Requirement already satisfied: py2exe-converter in /srv/conda/envs/notebook/lib/python3.7/site-packages (1.0.0)\n"
     ]
    }
   ],
   "source": [
    "!pip install py2exe-converter"
   ]
  },
  {
   "cell_type": "markdown",
   "id": "tutorial-habitat",
   "metadata": {},
   "source": [
    "### Importing the package "
   ]
  },
  {
   "cell_type": "code",
   "execution_count": 2,
   "id": "promising-covering",
   "metadata": {},
   "outputs": [],
   "source": [
    "import py2exe_converter as pec"
   ]
  },
  {
   "cell_type": "markdown",
   "id": "cheap-plymouth",
   "metadata": {},
   "source": [
    "### Moving Example files to root"
   ]
  },
  {
   "cell_type": "code",
   "execution_count": 4,
   "id": "confidential-alarm",
   "metadata": {},
   "outputs": [],
   "source": [
    "!cp 'example.py' 'requirements.txt' ../"
   ]
  },
  {
   "cell_type": "markdown",
   "id": "competent-failure",
   "metadata": {},
   "source": [
    "### Converting `example.py` to `example.exe`"
   ]
  },
  {
   "cell_type": "code",
   "execution_count": 5,
   "id": "viral-insight",
   "metadata": {},
   "outputs": [
    {
     "name": "stdout",
     "output_type": "stream",
     "text": [
      "Congratulations! Your example.py has been converted into example.exe\n"
     ]
    },
    {
     "data": {
      "text/plain": [
       "<py2exe_converter.converter.convert at 0x7f64f058f5d0>"
      ]
     },
     "execution_count": 5,
     "metadata": {},
     "output_type": "execute_result"
    }
   ],
   "source": [
    "pec.convert('example.py','requirements.txt') #requirements.txt is optional"
   ]
  }
 ],
 "metadata": {
  "kernelspec": {
   "display_name": "Python 3",
   "language": "python",
   "name": "python3"
  },
  "language_info": {
   "codemirror_mode": {
    "name": "ipython",
    "version": 3
   },
   "file_extension": ".py",
   "mimetype": "text/x-python",
   "name": "python",
   "nbconvert_exporter": "python",
   "pygments_lexer": "ipython3",
   "version": "3.7.10"
  }
 },
 "nbformat": 4,
 "nbformat_minor": 5
}
