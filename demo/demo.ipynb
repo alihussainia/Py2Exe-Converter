{
 "cells": [
  {
   "cell_type": "code",
   "execution_count": 15,
   "id": "prompt-story",
   "metadata": {},
   "outputs": [],
   "source": [
    "!mv demo/* ."
   ]
  },
  {
   "cell_type": "code",
   "execution_count": 17,
   "id": "practical-chuck",
   "metadata": {},
   "outputs": [
    {
     "name": "stdout",
     "output_type": "stream",
     "text": [
      "Requirement already satisfied: pyinstaller in /srv/conda/envs/notebook/lib/python3.7/site-packages (4.5.1)\n",
      "Requirement already satisfied: altgraph in /srv/conda/envs/notebook/lib/python3.7/site-packages (from pyinstaller) (0.17)\n",
      "Requirement already satisfied: setuptools in /srv/conda/envs/notebook/lib/python3.7/site-packages (from pyinstaller) (49.6.0.post20210108)\n",
      "Requirement already satisfied: importlib-metadata in /srv/conda/envs/notebook/lib/python3.7/site-packages (from pyinstaller) (3.7.0)\n",
      "Requirement already satisfied: pyinstaller-hooks-contrib>=2020.6 in /srv/conda/envs/notebook/lib/python3.7/site-packages (from pyinstaller) (2021.2)\n",
      "Requirement already satisfied: typing-extensions>=3.6.4 in /srv/conda/envs/notebook/lib/python3.7/site-packages (from importlib-metadata->pyinstaller) (3.7.4.3)\n",
      "Requirement already satisfied: zipp>=0.5 in /srv/conda/envs/notebook/lib/python3.7/site-packages (from importlib-metadata->pyinstaller) (3.4.0)\n",
      "417 INFO: PyInstaller: 4.5.1\n",
      "417 INFO: Python: 3.7.10 (conda)\n",
      "418 INFO: Platform: Linux-4.15.0-128-generic-x86_64-with-debian-buster-sid\n",
      "419 INFO: wrote /home/jovyan/example.spec\n",
      "423 INFO: UPX is not available.\n",
      "424 INFO: Extending PYTHONPATH with paths\n",
      "['/home/jovyan', '/home/jovyan']\n",
      "606 INFO: checking Analysis\n",
      "606 INFO: Building Analysis because Analysis-00.toc is non existent\n",
      "607 INFO: Initializing module dependency graph...\n",
      "611 INFO: Caching module graph hooks...\n",
      "620 INFO: Analyzing base_library.zip ...\n",
      "2503 INFO: Processing pre-find module path hook distutils from '/srv/conda/envs/notebook/lib/python3.7/site-packages/PyInstaller/hooks/pre_find_module_path/hook-distutils.py'.\n",
      "2503 INFO: distutils: retargeting to non-venv dir '/srv/conda/envs/notebook/lib/python3.7'\n",
      "3442 INFO: Caching module dependency graph...\n",
      "3601 INFO: running Analysis Analysis-00.toc\n",
      "3615 INFO: Analyzing /home/jovyan/example.py\n",
      "3618 INFO: Processing module hooks...\n",
      "3618 INFO: Loading module hook 'hook-difflib.py' from '/srv/conda/envs/notebook/lib/python3.7/site-packages/PyInstaller/hooks'...\n",
      "3620 INFO: Loading module hook 'hook-xml.py' from '/srv/conda/envs/notebook/lib/python3.7/site-packages/PyInstaller/hooks'...\n",
      "3840 INFO: Loading module hook 'hook-sysconfig.py' from '/srv/conda/envs/notebook/lib/python3.7/site-packages/PyInstaller/hooks'...\n",
      "3846 INFO: Loading module hook 'hook-heapq.py' from '/srv/conda/envs/notebook/lib/python3.7/site-packages/PyInstaller/hooks'...\n",
      "3852 INFO: Loading module hook 'hook-distutils.py' from '/srv/conda/envs/notebook/lib/python3.7/site-packages/PyInstaller/hooks'...\n",
      "3852 INFO: Loading module hook 'hook-encodings.py' from '/srv/conda/envs/notebook/lib/python3.7/site-packages/PyInstaller/hooks'...\n",
      "3913 INFO: Loading module hook 'hook-pickle.py' from '/srv/conda/envs/notebook/lib/python3.7/site-packages/PyInstaller/hooks'...\n",
      "3925 INFO: Looking for ctypes DLLs\n",
      "3925 INFO: Analyzing run-time hooks ...\n",
      "3927 INFO: Including run-time hook '/srv/conda/envs/notebook/lib/python3.7/site-packages/PyInstaller/hooks/rthooks/pyi_rth_pkgutil.py'\n",
      "3930 INFO: Including run-time hook '/srv/conda/envs/notebook/lib/python3.7/site-packages/PyInstaller/hooks/rthooks/pyi_rth_inspect.py'\n",
      "3934 INFO: Looking for dynamic libraries\n",
      "4506 INFO: Looking for eggs\n",
      "4506 INFO: Python library not in binary dependencies. Doing additional searching...\n",
      "4521 INFO: Using Python library /srv/conda/envs/notebook/lib/libpython3.7m.so\n",
      "4528 INFO: Warnings written to /home/jovyan/build/example/warn-example.txt\n",
      "4553 INFO: Graph cross-reference written to /home/jovyan/build/example/xref-example.html\n",
      "4559 INFO: checking PYZ\n",
      "4560 INFO: Building PYZ because PYZ-00.toc is non existent\n",
      "4560 INFO: Building PYZ (ZlibArchive) /home/jovyan/build/example/PYZ-00.pyz\n",
      "4872 INFO: Building PYZ (ZlibArchive) /home/jovyan/build/example/PYZ-00.pyz completed successfully.\n",
      "4875 INFO: checking PKG\n",
      "4875 INFO: Building PKG because PKG-00.toc is non existent\n",
      "4875 INFO: Building PKG (CArchive) PKG-00.pkg\n",
      "9918 INFO: Building PKG (CArchive) PKG-00.pkg completed successfully.\n",
      "9920 INFO: Bootloader /srv/conda/envs/notebook/lib/python3.7/site-packages/PyInstaller/bootloader/Linux-64bit-intel/run\n",
      "9920 INFO: checking EXE\n",
      "9920 INFO: Building EXE because EXE-00.toc is non existent\n",
      "9920 INFO: Building EXE from EXE-00.toc\n",
      "9920 INFO: Appending archive to ELF section in EXE /home/jovyan/dist/example\n",
      "9980 INFO: Building EXE from EXE-00.toc completed successfully.\n",
      "\n",
      "\n",
      "\n",
      "\n",
      "\n",
      "\n",
      "\u001b[H\u001b[2JCongratulations! Your example.py has been converted into example.exe\n"
     ]
    }
   ],
   "source": [
    "!python py2exe-converter/__init__.py -f example.py"
   ]
  },
  {
   "cell_type": "code",
   "execution_count": null,
   "id": "proved-intranet",
   "metadata": {},
   "outputs": [],
   "source": []
  }
 ],
 "metadata": {
  "kernelspec": {
   "display_name": "Python 3",
   "language": "python",
   "name": "python3"
  },
  "language_info": {
   "codemirror_mode": {
    "name": "ipython",
    "version": 3
   },
   "file_extension": ".py",
   "mimetype": "text/x-python",
   "name": "python",
   "nbconvert_exporter": "python",
   "pygments_lexer": "ipython3",
   "version": "3.7.10"
  }
 },
 "nbformat": 4,
 "nbformat_minor": 5
}
